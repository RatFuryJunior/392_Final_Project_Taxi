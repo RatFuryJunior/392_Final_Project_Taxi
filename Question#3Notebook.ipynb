{
 "cells": [
  {
   "cell_type": "markdown",
   "id": "98c45942",
   "metadata": {},
   "source": [
    "3: What variables have more importance in determining the Total amount for a fair? What do these specific variables represent in the real world and in the dataset? Now, if we decide we are including daily covid death and covid cases #’s, does the model improve? What does this show regarding the impact between NYC Covid cases and the Taxi business?"
   ]
  },
  {
   "cell_type": "markdown",
   "id": "aecf49aa",
   "metadata": {},
   "source": [
    "## a) ##"
   ]
  },
  {
   "cell_type": "code",
   "execution_count": 1,
   "id": "b792a622",
   "metadata": {},
   "outputs": [],
   "source": [
    "import warnings\n",
    "warnings.filterwarnings('ignore')\n",
    "import datetime as dt\n",
    "import pandas as pd\n",
    "import numpy as np\n",
    "from plotnine import *\n",
    "\n",
    "from sklearn.linear_model import LinearRegression # Linear Regression Model\n",
    "\n",
    "from sklearn.preprocessing import StandardScaler #Z-score variables\n",
    "from sklearn.metrics import mean_squared_error, r2_score, accuracy_score #model evaluation\n",
    "from sklearn.metrics import mean_absolute_error\n",
    "\n",
    "\n",
    "from sklearn.model_selection import train_test_split # simple TT split cv\n",
    "\n",
    "\n",
    "from sklearn.decomposition import PCA"
   ]
  },
  {
   "cell_type": "code",
   "execution_count": 2,
   "id": "fef0b163",
   "metadata": {},
   "outputs": [],
   "source": [
    "TaxiJulySet= pd.read_csv(\"yellow_tripdata_2021-07.csv\")\n",
    "TaxiJuneSet= pd.read_csv(\"yellow_tripdata_2021-06.csv\")\n",
    "TaxiMaySet= pd.read_csv(\"yellow_tripdata_2021-05.csv\")"
   ]
  },
  {
   "cell_type": "code",
   "execution_count": 3,
   "id": "e5e444db",
   "metadata": {},
   "outputs": [],
   "source": [
    "bigSet = pd.concat([TaxiJulySet,TaxiJuneSet,TaxiMaySet],axis = 0)\n",
    "# bigSet = TaxiJulySet\n",
    "bigSet['time_of_trip'] = (pd.to_datetime(bigSet[\"tpep_dropoff_datetime\"]) - pd.to_datetime(bigSet[\"tpep_pickup_datetime\"])).dt.total_seconds()"
   ]
  },
  {
   "cell_type": "code",
   "execution_count": 4,
   "id": "21c670b1",
   "metadata": {},
   "outputs": [
    {
     "data": {
      "text/html": [
       "<div>\n",
       "<style scoped>\n",
       "    .dataframe tbody tr th:only-of-type {\n",
       "        vertical-align: middle;\n",
       "    }\n",
       "\n",
       "    .dataframe tbody tr th {\n",
       "        vertical-align: top;\n",
       "    }\n",
       "\n",
       "    .dataframe thead th {\n",
       "        text-align: right;\n",
       "    }\n",
       "</style>\n",
       "<table border=\"1\" class=\"dataframe\">\n",
       "  <thead>\n",
       "    <tr style=\"text-align: right;\">\n",
       "      <th></th>\n",
       "      <th>VendorID</th>\n",
       "      <th>tpep_pickup_datetime</th>\n",
       "      <th>tpep_dropoff_datetime</th>\n",
       "      <th>passenger_count</th>\n",
       "      <th>trip_distance</th>\n",
       "      <th>RatecodeID</th>\n",
       "      <th>store_and_fwd_flag</th>\n",
       "      <th>PULocationID</th>\n",
       "      <th>DOLocationID</th>\n",
       "      <th>payment_type</th>\n",
       "      <th>fare_amount</th>\n",
       "      <th>extra</th>\n",
       "      <th>mta_tax</th>\n",
       "      <th>tip_amount</th>\n",
       "      <th>tolls_amount</th>\n",
       "      <th>improvement_surcharge</th>\n",
       "      <th>total_amount</th>\n",
       "      <th>congestion_surcharge</th>\n",
       "      <th>time_of_trip</th>\n",
       "    </tr>\n",
       "  </thead>\n",
       "  <tbody>\n",
       "    <tr>\n",
       "      <th>0</th>\n",
       "      <td>1.0</td>\n",
       "      <td>2021-07-01 00:08:51</td>\n",
       "      <td>2021-07-01 00:13:05</td>\n",
       "      <td>1.0</td>\n",
       "      <td>0.8</td>\n",
       "      <td>1.0</td>\n",
       "      <td>N</td>\n",
       "      <td>90</td>\n",
       "      <td>68</td>\n",
       "      <td>1.0</td>\n",
       "      <td>5.0</td>\n",
       "      <td>3.0</td>\n",
       "      <td>0.5</td>\n",
       "      <td>0.0</td>\n",
       "      <td>0.0</td>\n",
       "      <td>0.3</td>\n",
       "      <td>8.8</td>\n",
       "      <td>2.5</td>\n",
       "      <td>254.0</td>\n",
       "    </tr>\n",
       "    <tr>\n",
       "      <th>1</th>\n",
       "      <td>1.0</td>\n",
       "      <td>2021-07-01 00:22:39</td>\n",
       "      <td>2021-07-01 00:25:58</td>\n",
       "      <td>1.0</td>\n",
       "      <td>0.9</td>\n",
       "      <td>1.0</td>\n",
       "      <td>N</td>\n",
       "      <td>113</td>\n",
       "      <td>90</td>\n",
       "      <td>2.0</td>\n",
       "      <td>5.0</td>\n",
       "      <td>3.0</td>\n",
       "      <td>0.5</td>\n",
       "      <td>0.0</td>\n",
       "      <td>0.0</td>\n",
       "      <td>0.3</td>\n",
       "      <td>8.8</td>\n",
       "      <td>2.5</td>\n",
       "      <td>199.0</td>\n",
       "    </tr>\n",
       "    <tr>\n",
       "      <th>2</th>\n",
       "      <td>1.0</td>\n",
       "      <td>2021-07-01 00:48:33</td>\n",
       "      <td>2021-07-01 00:54:58</td>\n",
       "      <td>1.0</td>\n",
       "      <td>2.8</td>\n",
       "      <td>1.0</td>\n",
       "      <td>N</td>\n",
       "      <td>88</td>\n",
       "      <td>232</td>\n",
       "      <td>2.0</td>\n",
       "      <td>10.0</td>\n",
       "      <td>3.0</td>\n",
       "      <td>0.5</td>\n",
       "      <td>0.0</td>\n",
       "      <td>0.0</td>\n",
       "      <td>0.3</td>\n",
       "      <td>13.8</td>\n",
       "      <td>2.5</td>\n",
       "      <td>385.0</td>\n",
       "    </tr>\n",
       "    <tr>\n",
       "      <th>3</th>\n",
       "      <td>1.0</td>\n",
       "      <td>2021-07-01 00:59:44</td>\n",
       "      <td>2021-07-01 01:07:09</td>\n",
       "      <td>1.0</td>\n",
       "      <td>1.4</td>\n",
       "      <td>1.0</td>\n",
       "      <td>N</td>\n",
       "      <td>79</td>\n",
       "      <td>249</td>\n",
       "      <td>1.0</td>\n",
       "      <td>7.0</td>\n",
       "      <td>3.0</td>\n",
       "      <td>0.5</td>\n",
       "      <td>1.5</td>\n",
       "      <td>0.0</td>\n",
       "      <td>0.3</td>\n",
       "      <td>12.3</td>\n",
       "      <td>2.5</td>\n",
       "      <td>445.0</td>\n",
       "    </tr>\n",
       "    <tr>\n",
       "      <th>4</th>\n",
       "      <td>1.0</td>\n",
       "      <td>2021-07-01 00:08:35</td>\n",
       "      <td>2021-07-01 00:16:28</td>\n",
       "      <td>0.0</td>\n",
       "      <td>2.0</td>\n",
       "      <td>1.0</td>\n",
       "      <td>N</td>\n",
       "      <td>142</td>\n",
       "      <td>238</td>\n",
       "      <td>1.0</td>\n",
       "      <td>8.5</td>\n",
       "      <td>3.0</td>\n",
       "      <td>0.5</td>\n",
       "      <td>0.0</td>\n",
       "      <td>0.0</td>\n",
       "      <td>0.3</td>\n",
       "      <td>12.3</td>\n",
       "      <td>2.5</td>\n",
       "      <td>473.0</td>\n",
       "    </tr>\n",
       "  </tbody>\n",
       "</table>\n",
       "</div>"
      ],
      "text/plain": [
       "   VendorID tpep_pickup_datetime tpep_dropoff_datetime  passenger_count  \\\n",
       "0       1.0  2021-07-01 00:08:51   2021-07-01 00:13:05              1.0   \n",
       "1       1.0  2021-07-01 00:22:39   2021-07-01 00:25:58              1.0   \n",
       "2       1.0  2021-07-01 00:48:33   2021-07-01 00:54:58              1.0   \n",
       "3       1.0  2021-07-01 00:59:44   2021-07-01 01:07:09              1.0   \n",
       "4       1.0  2021-07-01 00:08:35   2021-07-01 00:16:28              0.0   \n",
       "\n",
       "   trip_distance  RatecodeID store_and_fwd_flag  PULocationID  DOLocationID  \\\n",
       "0            0.8         1.0                  N            90            68   \n",
       "1            0.9         1.0                  N           113            90   \n",
       "2            2.8         1.0                  N            88           232   \n",
       "3            1.4         1.0                  N            79           249   \n",
       "4            2.0         1.0                  N           142           238   \n",
       "\n",
       "   payment_type  fare_amount  extra  mta_tax  tip_amount  tolls_amount  \\\n",
       "0           1.0          5.0    3.0      0.5         0.0           0.0   \n",
       "1           2.0          5.0    3.0      0.5         0.0           0.0   \n",
       "2           2.0         10.0    3.0      0.5         0.0           0.0   \n",
       "3           1.0          7.0    3.0      0.5         1.5           0.0   \n",
       "4           1.0          8.5    3.0      0.5         0.0           0.0   \n",
       "\n",
       "   improvement_surcharge  total_amount  congestion_surcharge  time_of_trip  \n",
       "0                    0.3           8.8                   2.5         254.0  \n",
       "1                    0.3           8.8                   2.5         199.0  \n",
       "2                    0.3          13.8                   2.5         385.0  \n",
       "3                    0.3          12.3                   2.5         445.0  \n",
       "4                    0.3          12.3                   2.5         473.0  "
      ]
     },
     "execution_count": 4,
     "metadata": {},
     "output_type": "execute_result"
    }
   ],
   "source": [
    "bigSet.head()"
   ]
  },
  {
   "cell_type": "code",
   "execution_count": 5,
   "id": "6a4a82f1",
   "metadata": {},
   "outputs": [],
   "source": [
    "CovidSet= pd.read_csv(\"covidDataByDay.csv\")\n",
    "\n",
    "bigSet['tpep_pickup_datetime'] = pd.to_datetime(bigSet['tpep_pickup_datetime']).dt.date\n",
    "CovidSet['date_of_interest'] = pd.to_datetime(CovidSet['date_of_interest']).dt.date\n",
    "bigSet=bigSet.rename(columns={\"tpep_pickup_datetime\": \"date\"})\n",
    "CovidSet=CovidSet.rename(columns={\"date_of_interest\": \"date\"})"
   ]
  },
  {
   "cell_type": "code",
   "execution_count": 6,
   "id": "6bc5dec1",
   "metadata": {},
   "outputs": [],
   "source": [
    "mergeSet = CovidSet.merge(bigSet, on='date', how='inner')\n",
    "mergeSet.head()\n",
    "mergeSet = mergeSet.dropna()"
   ]
  },
  {
   "cell_type": "code",
   "execution_count": 7,
   "id": "659c29e4",
   "metadata": {},
   "outputs": [
    {
     "data": {
      "text/html": [
       "<div>\n",
       "<style scoped>\n",
       "    .dataframe tbody tr th:only-of-type {\n",
       "        vertical-align: middle;\n",
       "    }\n",
       "\n",
       "    .dataframe tbody tr th {\n",
       "        vertical-align: top;\n",
       "    }\n",
       "\n",
       "    .dataframe thead th {\n",
       "        text-align: right;\n",
       "    }\n",
       "</style>\n",
       "<table border=\"1\" class=\"dataframe\">\n",
       "  <thead>\n",
       "    <tr style=\"text-align: right;\">\n",
       "      <th></th>\n",
       "      <th>date</th>\n",
       "      <th>CASE_COUNT</th>\n",
       "      <th>PROBABLE_CASE_COUNT</th>\n",
       "      <th>HOSPITALIZED_COUNT</th>\n",
       "      <th>DEATH_COUNT</th>\n",
       "      <th>PROBABLE_DEATH_COUNT</th>\n",
       "      <th>CASE_COUNT_7DAY_AVG</th>\n",
       "      <th>ALL_CASE_COUNT_7DAY_AVG</th>\n",
       "      <th>HOSP_COUNT_7DAY_AVG</th>\n",
       "      <th>DEATH_COUNT_7DAY_AVG</th>\n",
       "      <th>...</th>\n",
       "      <th>payment_type</th>\n",
       "      <th>fare_amount</th>\n",
       "      <th>extra</th>\n",
       "      <th>mta_tax</th>\n",
       "      <th>tip_amount</th>\n",
       "      <th>tolls_amount</th>\n",
       "      <th>improvement_surcharge</th>\n",
       "      <th>total_amount</th>\n",
       "      <th>congestion_surcharge</th>\n",
       "      <th>time_of_trip</th>\n",
       "    </tr>\n",
       "  </thead>\n",
       "  <tbody>\n",
       "    <tr>\n",
       "      <th>0</th>\n",
       "      <td>2021-04-30</td>\n",
       "      <td>963</td>\n",
       "      <td>314</td>\n",
       "      <td>94</td>\n",
       "      <td>38</td>\n",
       "      <td>1</td>\n",
       "      <td>1050</td>\n",
       "      <td>1384</td>\n",
       "      <td>117</td>\n",
       "      <td>30</td>\n",
       "      <td>...</td>\n",
       "      <td>2.0</td>\n",
       "      <td>8.5</td>\n",
       "      <td>0.5</td>\n",
       "      <td>0.5</td>\n",
       "      <td>0.00</td>\n",
       "      <td>0.0</td>\n",
       "      <td>0.3</td>\n",
       "      <td>12.30</td>\n",
       "      <td>2.5</td>\n",
       "      <td>546.0</td>\n",
       "    </tr>\n",
       "    <tr>\n",
       "      <th>1</th>\n",
       "      <td>2021-04-30</td>\n",
       "      <td>963</td>\n",
       "      <td>314</td>\n",
       "      <td>94</td>\n",
       "      <td>38</td>\n",
       "      <td>1</td>\n",
       "      <td>1050</td>\n",
       "      <td>1384</td>\n",
       "      <td>117</td>\n",
       "      <td>30</td>\n",
       "      <td>...</td>\n",
       "      <td>1.0</td>\n",
       "      <td>6.5</td>\n",
       "      <td>0.5</td>\n",
       "      <td>0.5</td>\n",
       "      <td>2.06</td>\n",
       "      <td>0.0</td>\n",
       "      <td>0.3</td>\n",
       "      <td>12.36</td>\n",
       "      <td>2.5</td>\n",
       "      <td>416.0</td>\n",
       "    </tr>\n",
       "    <tr>\n",
       "      <th>2</th>\n",
       "      <td>2021-04-30</td>\n",
       "      <td>963</td>\n",
       "      <td>314</td>\n",
       "      <td>94</td>\n",
       "      <td>38</td>\n",
       "      <td>1</td>\n",
       "      <td>1050</td>\n",
       "      <td>1384</td>\n",
       "      <td>117</td>\n",
       "      <td>30</td>\n",
       "      <td>...</td>\n",
       "      <td>2.0</td>\n",
       "      <td>4.5</td>\n",
       "      <td>0.5</td>\n",
       "      <td>0.5</td>\n",
       "      <td>0.00</td>\n",
       "      <td>0.0</td>\n",
       "      <td>0.3</td>\n",
       "      <td>8.30</td>\n",
       "      <td>2.5</td>\n",
       "      <td>214.0</td>\n",
       "    </tr>\n",
       "    <tr>\n",
       "      <th>3</th>\n",
       "      <td>2021-04-30</td>\n",
       "      <td>963</td>\n",
       "      <td>314</td>\n",
       "      <td>94</td>\n",
       "      <td>38</td>\n",
       "      <td>1</td>\n",
       "      <td>1050</td>\n",
       "      <td>1384</td>\n",
       "      <td>117</td>\n",
       "      <td>30</td>\n",
       "      <td>...</td>\n",
       "      <td>1.0</td>\n",
       "      <td>6.5</td>\n",
       "      <td>0.5</td>\n",
       "      <td>0.5</td>\n",
       "      <td>2.06</td>\n",
       "      <td>0.0</td>\n",
       "      <td>0.3</td>\n",
       "      <td>12.36</td>\n",
       "      <td>2.5</td>\n",
       "      <td>465.0</td>\n",
       "    </tr>\n",
       "    <tr>\n",
       "      <th>4</th>\n",
       "      <td>2021-04-30</td>\n",
       "      <td>963</td>\n",
       "      <td>314</td>\n",
       "      <td>94</td>\n",
       "      <td>38</td>\n",
       "      <td>1</td>\n",
       "      <td>1050</td>\n",
       "      <td>1384</td>\n",
       "      <td>117</td>\n",
       "      <td>30</td>\n",
       "      <td>...</td>\n",
       "      <td>1.0</td>\n",
       "      <td>48.0</td>\n",
       "      <td>0.5</td>\n",
       "      <td>0.5</td>\n",
       "      <td>0.00</td>\n",
       "      <td>0.0</td>\n",
       "      <td>0.3</td>\n",
       "      <td>51.80</td>\n",
       "      <td>2.5</td>\n",
       "      <td>1759.0</td>\n",
       "    </tr>\n",
       "  </tbody>\n",
       "</table>\n",
       "<p>5 rows × 85 columns</p>\n",
       "</div>"
      ],
      "text/plain": [
       "         date  CASE_COUNT  PROBABLE_CASE_COUNT  HOSPITALIZED_COUNT  \\\n",
       "0  2021-04-30         963                  314                  94   \n",
       "1  2021-04-30         963                  314                  94   \n",
       "2  2021-04-30         963                  314                  94   \n",
       "3  2021-04-30         963                  314                  94   \n",
       "4  2021-04-30         963                  314                  94   \n",
       "\n",
       "   DEATH_COUNT  PROBABLE_DEATH_COUNT  CASE_COUNT_7DAY_AVG  \\\n",
       "0           38                     1                 1050   \n",
       "1           38                     1                 1050   \n",
       "2           38                     1                 1050   \n",
       "3           38                     1                 1050   \n",
       "4           38                     1                 1050   \n",
       "\n",
       "   ALL_CASE_COUNT_7DAY_AVG  HOSP_COUNT_7DAY_AVG  DEATH_COUNT_7DAY_AVG  ...  \\\n",
       "0                     1384                  117                    30  ...   \n",
       "1                     1384                  117                    30  ...   \n",
       "2                     1384                  117                    30  ...   \n",
       "3                     1384                  117                    30  ...   \n",
       "4                     1384                  117                    30  ...   \n",
       "\n",
       "   payment_type  fare_amount  extra  mta_tax  tip_amount  tolls_amount  \\\n",
       "0           2.0          8.5    0.5      0.5        0.00           0.0   \n",
       "1           1.0          6.5    0.5      0.5        2.06           0.0   \n",
       "2           2.0          4.5    0.5      0.5        0.00           0.0   \n",
       "3           1.0          6.5    0.5      0.5        2.06           0.0   \n",
       "4           1.0         48.0    0.5      0.5        0.00           0.0   \n",
       "\n",
       "   improvement_surcharge  total_amount  congestion_surcharge  time_of_trip  \n",
       "0                    0.3         12.30                   2.5         546.0  \n",
       "1                    0.3         12.36                   2.5         416.0  \n",
       "2                    0.3          8.30                   2.5         214.0  \n",
       "3                    0.3         12.36                   2.5         465.0  \n",
       "4                    0.3         51.80                   2.5        1759.0  \n",
       "\n",
       "[5 rows x 85 columns]"
      ]
     },
     "execution_count": 7,
     "metadata": {},
     "output_type": "execute_result"
    }
   ],
   "source": [
    "mergeSet.head()"
   ]
  },
  {
   "cell_type": "markdown",
   "id": "41e77e4f",
   "metadata": {},
   "source": [
    "## Without COVID ##"
   ]
  },
  {
   "cell_type": "code",
   "execution_count": 8,
   "id": "7fa2dd58",
   "metadata": {},
   "outputs": [],
   "source": [
    "predictors = [\"passenger_count\",\"trip_distance\",\"time_of_trip\",\"RatecodeID\",\"payment_type\",\"tip_amount\",\"tolls_amount\"]\n",
    "\n",
    "testSplitDecimal = .1\n",
    "\n",
    "X_train, X_test, y_train, y_test = train_test_split(mergeSet[predictors], mergeSet[\"total_amount\"],\n",
    "                                                    test_size=testSplitDecimal)\n",
    "\n",
    "zScore = StandardScaler()\n",
    "\n",
    "zScore.fit(X_train)\n",
    "Xz_train = zScore.transform(X_train)\n",
    "Xz_test = zScore.transform(X_test)\n",
    "\n",
    "\n",
    "lr = LinearRegression()\n",
    "lr.fit(Xz_train,y_train)\n",
    "\n",
    "y_pred = lr.predict(Xz_test)\n",
    "y_predTrain = lr.predict(Xz_train)\n",
    "\n",
    "\n",
    "testMSE = mean_squared_error(y_test,y_pred)\n",
    "trainMSE = mean_squared_error(y_train,y_predTrain)\n",
    "\n",
    "testr2 = r2_score(y_test,y_pred)\n",
    "trainr2 = r2_score(y_train,y_predTrain)"
   ]
  },
  {
   "cell_type": "code",
   "execution_count": 9,
   "id": "1da7483c",
   "metadata": {
    "scrolled": true
   },
   "outputs": [
    {
     "name": "stdout",
     "output_type": "stream",
     "text": [
      "       Coef             Name\n",
      "0  0.082776  passenger_count\n",
      "1  3.554899    trip_distance\n",
      "2  0.897942     time_of_trip\n",
      "3  1.183589       RatecodeID\n",
      "4  1.159034     payment_type\n",
      "5  7.034940       tip_amount\n",
      "6  5.039394     tolls_amount\n",
      "TEST\n",
      "60.254908114784634\n",
      "0.7124436304803352\n",
      "TRAIN\n",
      "0.6542082045301509\n",
      "74.18379345973146\n"
     ]
    }
   ],
   "source": [
    "coefficients = pd.DataFrame({\"Coef\":lr.coef_,\n",
    "              \"Name\": predictors})\n",
    "print(coefficients)\n",
    "\n",
    "print(\"TEST\")\n",
    "print(testMSE)\n",
    "print(testr2)\n",
    "\n",
    "print(\"TRAIN\")\n",
    "print(trainr2)\n",
    "print(trainMSE)"
   ]
  },
  {
   "cell_type": "code",
   "execution_count": 10,
   "id": "fea6895b",
   "metadata": {},
   "outputs": [
    {
     "data": {
      "image/png": "[encoded data removed]",
      "text/plain": [
       "<Figure size 640x480 with 1 Axes>"
      ]
     },
     "metadata": {
      "needs_background": "light"
     },
     "output_type": "display_data"
    },
    {
     "data": {
      "text/plain": [
       "<ggplot: (120526200558)>"
      ]
     },
     "execution_count": 10,
     "metadata": {},
     "output_type": "execute_result"
    }
   ],
   "source": [
    "coefficients1 = pd.DataFrame({\"Coef\":lr.coef_,\n",
    "              \"Name\": predictors})\n",
    "ggplot(aes(x=\"Name\", weight=\"Coef\"), coefficients1) + geom_bar(aes(fill = \"Name\")) + theme_minimal() + labs(x = \"Coefficent's Name\",y = \"Coef Value\") + theme(panel_grid_major_x = element_blank(),\n",
    "        axis_title_x=element_blank(),\n",
    "        axis_text_x=element_blank())"
   ]
  },
  {
   "cell_type": "code",
   "execution_count": 11,
   "id": "0b9fb4c4",
   "metadata": {},
   "outputs": [
    {
     "name": "stdout",
     "output_type": "stream",
     "text": [
      "18.793118124455663\n",
      "14.629899632388813\n",
      "5954.0\n"
     ]
    }
   ],
   "source": [
    "print(np.mean(mergeSet[\"total_amount\"]))\n",
    "print(np.std(mergeSet[\"total_amount\"]))\n",
    "print(np.max(mergeSet[\"total_amount\"]))"
   ]
  },
  {
   "cell_type": "code",
   "execution_count": 12,
   "id": "7bed4dd1",
   "metadata": {
    "scrolled": true
   },
   "outputs": [
    {
     "data": {
      "text/html": [
       "<div>\n",
       "<style scoped>\n",
       "    .dataframe tbody tr th:only-of-type {\n",
       "        vertical-align: middle;\n",
       "    }\n",
       "\n",
       "    .dataframe tbody tr th {\n",
       "        vertical-align: top;\n",
       "    }\n",
       "\n",
       "    .dataframe thead th {\n",
       "        text-align: right;\n",
       "    }\n",
       "</style>\n",
       "<table border=\"1\" class=\"dataframe\">\n",
       "  <thead>\n",
       "    <tr style=\"text-align: right;\">\n",
       "      <th></th>\n",
       "      <th>expl_var</th>\n",
       "      <th>pc</th>\n",
       "      <th>cum_var</th>\n",
       "    </tr>\n",
       "  </thead>\n",
       "  <tbody>\n",
       "    <tr>\n",
       "      <th>0</th>\n",
       "      <td>9.999960e-01</td>\n",
       "      <td>1</td>\n",
       "      <td>0.999996</td>\n",
       "    </tr>\n",
       "    <tr>\n",
       "      <th>1</th>\n",
       "      <td>3.209254e-06</td>\n",
       "      <td>2</td>\n",
       "      <td>0.999999</td>\n",
       "    </tr>\n",
       "    <tr>\n",
       "      <th>2</th>\n",
       "      <td>5.040411e-07</td>\n",
       "      <td>3</td>\n",
       "      <td>1.000000</td>\n",
       "    </tr>\n",
       "    <tr>\n",
       "      <th>3</th>\n",
       "      <td>1.676061e-07</td>\n",
       "      <td>4</td>\n",
       "      <td>1.000000</td>\n",
       "    </tr>\n",
       "    <tr>\n",
       "      <th>4</th>\n",
       "      <td>7.886418e-08</td>\n",
       "      <td>5</td>\n",
       "      <td>1.000000</td>\n",
       "    </tr>\n",
       "  </tbody>\n",
       "</table>\n",
       "</div>"
      ],
      "text/plain": [
       "       expl_var  pc   cum_var\n",
       "0  9.999960e-01   1  0.999996\n",
       "1  3.209254e-06   2  0.999999\n",
       "2  5.040411e-07   3  1.000000\n",
       "3  1.676061e-07   4  1.000000\n",
       "4  7.886418e-08   5  1.000000"
      ]
     },
     "execution_count": 12,
     "metadata": {},
     "output_type": "execute_result"
    }
   ],
   "source": [
    "predictors = [\"passenger_count\",\"trip_distance\",\"time_of_trip\",\"RatecodeID\",\"payment_type\",\"tip_amount\",\"tolls_amount\"]\n",
    "\n",
    "\n",
    "X_train, X_test, y_train, y_test = train_test_split(mergeSet[predictors], mergeSet[\"total_amount\"],\n",
    "                                                    test_size=testSplitDecimal)\n",
    "\n",
    "zScore = StandardScaler()\n",
    "\n",
    "zScore.fit(X_train)\n",
    "Xz_train = zScore.transform(X_train)\n",
    "Xz_test = zScore.transform(X_test)\n",
    "\n",
    "\n",
    "lr = LinearRegression()\n",
    "lr.fit(Xz_train,y_train)\n",
    "\n",
    "predicted = lr.predict(Xz_test)\n",
    "\n",
    "pca = PCA()\n",
    "pca.fit(X_train[predictors])\n",
    "\n",
    "pcaDF = pd.DataFrame({\"expl_var\" : pca.explained_variance_ratio_, \"pc\": range(1,8),\"cum_var\": pca.explained_variance_ratio_.cumsum()})\n",
    "pcaDF.head()\n"
   ]
  },
  {
   "cell_type": "code",
   "execution_count": 13,
   "id": "9f1f35dd",
   "metadata": {
    "scrolled": true
   },
   "outputs": [
    {
     "data": {
      "text/plain": [
       "passenger_count    0.009909\n",
       "trip_distance      0.985617\n",
       "time_of_trip       1.000000\n",
       "RatecodeID         0.997414\n",
       "payment_type       0.080775\n",
       "tip_amount         0.142752\n",
       "tolls_amount       0.961983\n",
       "dtype: float64"
      ]
     },
     "execution_count": 13,
     "metadata": {},
     "output_type": "execute_result"
    }
   ],
   "source": [
    "np.max(pd.DataFrame(pca.components_,columns=X_train.columns,index = range(1,8)))"
   ]
  },
  {
   "cell_type": "code",
   "execution_count": 14,
   "id": "f13eee70",
   "metadata": {
    "scrolled": true
   },
   "outputs": [
    {
     "name": "stdout",
     "output_type": "stream",
     "text": [
      "     0                1\n",
      "0  PC1     time_of_trip\n",
      "1  PC2    trip_distance\n",
      "2  PC3       tip_amount\n",
      "3  PC4     tolls_amount\n",
      "4  PC5  passenger_count\n",
      "5  PC6       RatecodeID\n",
      "6  PC7     payment_type\n"
     ]
    }
   ],
   "source": [
    "most_important = [np.abs(pca.components_[i]).argmax() for i in range(7)]\n",
    "most_important_names = [predictors[most_important[i]] for i in range(7)]\n",
    "dic = {'PC{}'.format(i+1): most_important_names[i] for i in range(7)}\n",
    "\n",
    "df = pd.DataFrame(sorted(dic.items()))\n",
    "print(df)"
   ]
  },
  {
   "cell_type": "code",
   "execution_count": 15,
   "id": "4983c043",
   "metadata": {
    "scrolled": false
   },
   "outputs": [
    {
     "data": {
      "image/png": "[encoded data removed]",
      "text/plain": [
       "<Figure size 640x480 with 1 Axes>"
      ]
     },
     "metadata": {},
     "output_type": "display_data"
    },
    {
     "data": {
      "text/plain": [
       "<ggplot: (120518556450)>"
      ]
     },
     "execution_count": 15,
     "metadata": {},
     "output_type": "execute_result"
    }
   ],
   "source": [
    "(ggplot(pcaDF, aes(x = \"pc\", y = \"expl_var\")) + geom_line() + geom_point())"
   ]
  },
  {
   "cell_type": "code",
   "execution_count": 16,
   "id": "827f830c",
   "metadata": {
    "scrolled": false
   },
   "outputs": [
    {
     "data": {
      "image/png": "[encoded data removed]",
      "text/plain": [
       "<Figure size 640x480 with 1 Axes>"
      ]
     },
     "metadata": {},
     "output_type": "display_data"
    },
    {
     "name": "stdout",
     "output_type": "stream",
     "text": [
      "\n"
     ]
    }
   ],
   "source": [
    "plot1 = (ggplot(pcaDF, aes(x = \"pc\", y = \"cum_var\")) + geom_line(color = \"Orange\") +\n",
    " geom_point(color = \"Red\"))\n",
    "print(plot1)"
   ]
  },
  {
   "cell_type": "code",
   "execution_count": 17,
   "id": "6dbb069c",
   "metadata": {},
   "outputs": [
    {
     "name": "stdout",
     "output_type": "stream",
     "text": [
      "       Coef           Name\n",
      "0  0.924364   time_of_trip\n",
      "1  3.670098  trip_distance\n",
      "2  1.216263     RatecodeID\n",
      "3  6.436293     tip_amount\n",
      "4  5.185893   tolls_amount\n",
      "TEST\n",
      "59.78379811691754\n",
      "0.7121167926862624\n",
      "TRAIN\n",
      "0.6492163539553013\n",
      "75.32777073516155\n"
     ]
    }
   ],
   "source": [
    "predictors = [\"time_of_trip\",\"trip_distance\",\"RatecodeID\",\"tip_amount\",\"tolls_amount\"]\n",
    "# trip_distance      0.985519\n",
    "# time_of_trip       1.000000\n",
    "# RatecodeID         0.997399\n",
    "# tip_amount         0.143267\n",
    "# tolls_amount       0.961486\n",
    "\n",
    "testSplitDecimal = .1\n",
    "\n",
    "X_train, X_test, y_train, y_test = train_test_split(mergeSet[predictors], mergeSet[\"total_amount\"],\n",
    "                                                    test_size=testSplitDecimal)\n",
    "\n",
    "zScore = StandardScaler()\n",
    "\n",
    "zScore.fit(X_train)\n",
    "Xz_train = zScore.transform(X_train)\n",
    "Xz_test = zScore.transform(X_test)\n",
    "\n",
    "\n",
    "lr = LinearRegression()\n",
    "lr.fit(Xz_train,y_train)\n",
    "\n",
    "y_pred = lr.predict(Xz_test)\n",
    "y_predTrain = lr.predict(Xz_train)\n",
    "\n",
    "\n",
    "testMSE = mean_squared_error(y_test,y_pred)\n",
    "trainMSE = mean_squared_error(y_train,y_predTrain)\n",
    "\n",
    "testr2 = r2_score(y_test,y_pred)\n",
    "trainr2 = r2_score(y_train,y_predTrain)\n",
    "\n",
    "\n",
    "coefficients = pd.DataFrame({\"Coef\":lr.coef_,\n",
    "              \"Name\": predictors})\n",
    "print(coefficients)\n",
    "\n",
    "print(\"TEST\")\n",
    "print(testMSE)\n",
    "print(testr2)\n",
    "\n",
    "print(\"TRAIN\")\n",
    "print(trainr2)\n",
    "print(trainMSE)"
   ]
  },
  {
   "cell_type": "code",
   "execution_count": 18,
   "id": "ea89c8c2",
   "metadata": {
    "scrolled": true
   },
   "outputs": [
    {
     "name": "stdout",
     "output_type": "stream",
     "text": [
      "       Coef             Name\n",
      "0  0.553233     time_of_trip\n",
      "1  7.076277    trip_distance\n",
      "2  5.033628       tip_amount\n",
      "3  3.657404     tolls_amount\n",
      "4  0.033660  passenger_count\n",
      "TEST\n",
      "622.6344460205387\n",
      "-1.9680856310535524\n",
      "TRAIN\n",
      "0.7457881321862596\n",
      "54.53020725666284\n"
     ]
    }
   ],
   "source": [
    "predictors = [\"time_of_trip\",\"trip_distance\",\"tip_amount\",\"tolls_amount\",\"passenger_count\"]\n",
    "# PC1     time_of_trip\n",
    "# PC2    trip_distance\n",
    "# PC3       tip_amount\n",
    "# PC4     tolls_amount\n",
    "# PC5  passenger_count\n",
    "\n",
    "\n",
    "testSplitDecimal = .1\n",
    "\n",
    "X_train, X_test, y_train, y_test = train_test_split(mergeSet[predictors], mergeSet[\"total_amount\"],\n",
    "                                                    test_size=testSplitDecimal)\n",
    "\n",
    "zScore = StandardScaler()\n",
    "\n",
    "zScore.fit(X_train)\n",
    "Xz_train = zScore.transform(X_train)\n",
    "Xz_test = zScore.transform(X_test)\n",
    "\n",
    "\n",
    "lr = LinearRegression()\n",
    "lr.fit(Xz_train,y_train)\n",
    "\n",
    "y_pred = lr.predict(Xz_test)\n",
    "y_predTrain = lr.predict(Xz_train)\n",
    "\n",
    "\n",
    "testMSE = mean_squared_error(y_test,y_pred)\n",
    "trainMSE = mean_squared_error(y_train,y_predTrain)\n",
    "\n",
    "testr2 = r2_score(y_test,y_pred)\n",
    "trainr2 = r2_score(y_train,y_predTrain)\n",
    "\n",
    "\n",
    "coefficients = pd.DataFrame({\"Coef\":lr.coef_,\n",
    "              \"Name\": predictors})\n",
    "print(coefficients)\n",
    "\n",
    "print(\"TEST\")\n",
    "print(testMSE)\n",
    "print(testr2)\n",
    "\n",
    "print(\"TRAIN\")\n",
    "print(trainr2)\n",
    "print(trainMSE)"
   ]
  },
  {
   "cell_type": "markdown",
   "id": "e51f3bea",
   "metadata": {},
   "source": [
    "## With COIVD ##"
   ]
  },
  {
   "cell_type": "code",
   "execution_count": 19,
   "id": "30308519",
   "metadata": {},
   "outputs": [],
   "source": [
    "predictors = [\"CASE_COUNT\",\"HOSPITALIZED_COUNT\",\"DEATH_COUNT\",\"CASE_COUNT_7DAY_AVG\",\"HOSP_COUNT_7DAY_AVG\",\"DEATH_COUNT_7DAY_AVG\",\n",
    "              \"passenger_count\",\"trip_distance\",\"time_of_trip\",\"RatecodeID\",\"payment_type\",\"tip_amount\",\"tolls_amount\"]\n",
    "\n",
    "testSplitDecimal = .1\n",
    "\n",
    "X_train, X_test, y_train, y_test = train_test_split(mergeSet[predictors], mergeSet[\"total_amount\"],\n",
    "                                                    test_size=testSplitDecimal)\n",
    "\n",
    "zScore = StandardScaler()\n",
    "\n",
    "zScore.fit(X_train)\n",
    "Xz_train = zScore.transform(X_train)\n",
    "Xz_test = zScore.transform(X_test)\n",
    "\n",
    "\n",
    "lr = LinearRegression()\n",
    "lr.fit(Xz_train,y_train)\n",
    "\n",
    "y_pred = lr.predict(Xz_test)\n",
    "y_predTrain = lr.predict(Xz_train)\n",
    "\n",
    "\n",
    "testMSE = mean_squared_error(y_test,y_pred)\n",
    "trainMSE = mean_squared_error(y_train,y_predTrain)\n",
    "\n",
    "testr2 = r2_score(y_test,y_pred)\n",
    "trainr2 = r2_score(y_train,y_predTrain)"
   ]
  },
  {
   "cell_type": "code",
   "execution_count": 20,
   "id": "7b109155",
   "metadata": {
    "scrolled": true
   },
   "outputs": [
    {
     "name": "stdout",
     "output_type": "stream",
     "text": [
      "        Coef                  Name\n",
      "0   0.047369            CASE_COUNT\n",
      "1   0.052283    HOSPITALIZED_COUNT\n",
      "2   0.062564           DEATH_COUNT\n",
      "3  -0.041217   CASE_COUNT_7DAY_AVG\n",
      "4  -0.056316   HOSP_COUNT_7DAY_AVG\n",
      "5  -0.153160  DEATH_COUNT_7DAY_AVG\n",
      "6   0.080665       passenger_count\n",
      "7   3.516088         trip_distance\n",
      "8   0.893431          time_of_trip\n",
      "9   1.146411            RatecodeID\n",
      "10  1.117497          payment_type\n",
      "11  6.942350            tip_amount\n",
      "12  5.134492          tolls_amount\n",
      "TEST\n",
      "66.16593826382505\n",
      "0.6857820537080613\n",
      "TRAIN\n",
      "0.6569988370868621\n",
      "73.54577829162471\n"
     ]
    }
   ],
   "source": [
    "coefficients = pd.DataFrame({\"Coef\":lr.coef_,\n",
    "              \"Name\": predictors})\n",
    "print(coefficients)\n",
    "\n",
    "print(\"TEST\")\n",
    "print(testMSE)\n",
    "print(testr2)\n",
    "\n",
    "print(\"TRAIN\")\n",
    "print(trainr2)\n",
    "print(trainMSE)"
   ]
  },
  {
   "cell_type": "code",
   "execution_count": 21,
   "id": "0d63fa75",
   "metadata": {},
   "outputs": [
    {
     "data": {
      "image/png": "[encoded data removed]",
      "text/plain": [
       "<Figure size 640x480 with 1 Axes>"
      ]
     },
     "metadata": {
      "needs_background": "light"
     },
     "output_type": "display_data"
    },
    {
     "data": {
      "text/plain": [
       "<ggplot: (120521468992)>"
      ]
     },
     "execution_count": 21,
     "metadata": {},
     "output_type": "execute_result"
    }
   ],
   "source": [
    "coefficients2 = pd.DataFrame({\"Coef\":lr.coef_,\n",
    "              \"Name\": predictors})\n",
    "ggplot(aes(x=\"Name\", weight=\"Coef\"), coefficients2) + geom_bar(aes(fill = \"Name\")) + theme_minimal() + labs(x = \"Coefficent's Name\",y = \"Coef Value\") + theme(panel_grid_major_x = element_blank(),\n",
    "        axis_title_x=element_blank(),\n",
    "        axis_text_x=element_blank())"
   ]
  },
  {
   "cell_type": "code",
   "execution_count": 22,
   "id": "10e03940",
   "metadata": {},
   "outputs": [
    {
     "name": "stdout",
     "output_type": "stream",
     "text": [
      "18.793118124455663\n",
      "14.629899632388813\n",
      "5954.0\n"
     ]
    }
   ],
   "source": [
    "print(np.mean(mergeSet[\"total_amount\"]))\n",
    "print(np.std(mergeSet[\"total_amount\"]))\n",
    "print(np.max(mergeSet[\"total_amount\"]))"
   ]
  },
  {
   "cell_type": "code",
   "execution_count": 23,
   "id": "16d14064",
   "metadata": {
    "scrolled": true
   },
   "outputs": [
    {
     "data": {
      "text/html": [
       "<div>\n",
       "<style scoped>\n",
       "    .dataframe tbody tr th:only-of-type {\n",
       "        vertical-align: middle;\n",
       "    }\n",
       "\n",
       "    .dataframe tbody tr th {\n",
       "        vertical-align: top;\n",
       "    }\n",
       "\n",
       "    .dataframe thead th {\n",
       "        text-align: right;\n",
       "    }\n",
       "</style>\n",
       "<table border=\"1\" class=\"dataframe\">\n",
       "  <thead>\n",
       "    <tr style=\"text-align: right;\">\n",
       "      <th></th>\n",
       "      <th>expl_var</th>\n",
       "      <th>pc</th>\n",
       "      <th>cum_var</th>\n",
       "    </tr>\n",
       "  </thead>\n",
       "  <tbody>\n",
       "    <tr>\n",
       "      <th>0</th>\n",
       "      <td>0.988039</td>\n",
       "      <td>1</td>\n",
       "      <td>0.988039</td>\n",
       "    </tr>\n",
       "    <tr>\n",
       "      <th>1</th>\n",
       "      <td>0.011296</td>\n",
       "      <td>2</td>\n",
       "      <td>0.999336</td>\n",
       "    </tr>\n",
       "    <tr>\n",
       "      <th>2</th>\n",
       "      <td>0.000641</td>\n",
       "      <td>3</td>\n",
       "      <td>0.999977</td>\n",
       "    </tr>\n",
       "    <tr>\n",
       "      <th>3</th>\n",
       "      <td>0.000017</td>\n",
       "      <td>4</td>\n",
       "      <td>0.999993</td>\n",
       "    </tr>\n",
       "    <tr>\n",
       "      <th>4</th>\n",
       "      <td>0.000003</td>\n",
       "      <td>5</td>\n",
       "      <td>0.999997</td>\n",
       "    </tr>\n",
       "  </tbody>\n",
       "</table>\n",
       "</div>"
      ],
      "text/plain": [
       "   expl_var  pc   cum_var\n",
       "0  0.988039   1  0.988039\n",
       "1  0.011296   2  0.999336\n",
       "2  0.000641   3  0.999977\n",
       "3  0.000017   4  0.999993\n",
       "4  0.000003   5  0.999997"
      ]
     },
     "execution_count": 23,
     "metadata": {},
     "output_type": "execute_result"
    }
   ],
   "source": [
    "predictors = [\"CASE_COUNT\",\"HOSPITALIZED_COUNT\",\"DEATH_COUNT\",\"CASE_COUNT_7DAY_AVG\",\"HOSP_COUNT_7DAY_AVG\",\"DEATH_COUNT_7DAY_AVG\",\n",
    "              \"passenger_count\",\"trip_distance\",\"time_of_trip\",\"RatecodeID\",\"payment_type\",\"tip_amount\",\"tolls_amount\"]\n",
    "\n",
    "X_train, X_test, y_train, y_test = train_test_split(mergeSet[predictors], mergeSet[\"total_amount\"],\n",
    "                                                    test_size=testSplitDecimal)\n",
    "\n",
    "zScore = StandardScaler()\n",
    "\n",
    "zScore.fit(X_train)\n",
    "Xz_train = zScore.transform(X_train)\n",
    "Xz_test = zScore.transform(X_test)\n",
    "\n",
    "\n",
    "lr = LinearRegression()\n",
    "lr.fit(Xz_train,y_train)\n",
    "\n",
    "predicted = lr.predict(Xz_test)\n",
    "\n",
    "pca = PCA()\n",
    "pca.fit(X_train[predictors])\n",
    "\n",
    "pcaDF = pd.DataFrame({\"expl_var\" : pca.explained_variance_ratio_, \"pc\": range(1,14),\"cum_var\": pca.explained_variance_ratio_.cumsum()})\n",
    "pcaDF.head()\n"
   ]
  },
  {
   "cell_type": "code",
   "execution_count": 24,
   "id": "19f9b262",
   "metadata": {
    "scrolled": true
   },
   "outputs": [
    {
     "data": {
      "text/plain": [
       "CASE_COUNT              0.756440\n",
       "HOSPITALIZED_COUNT      0.053596\n",
       "DEATH_COUNT             0.262415\n",
       "CASE_COUNT_7DAY_AVG     0.744055\n",
       "HOSP_COUNT_7DAY_AVG     0.556026\n",
       "DEATH_COUNT_7DAY_AVG    0.854238\n",
       "passenger_count         0.010635\n",
       "trip_distance           0.985329\n",
       "time_of_trip            1.000000\n",
       "RatecodeID              0.997388\n",
       "payment_type            0.080818\n",
       "tip_amount              0.143690\n",
       "tolls_amount            0.961523\n",
       "dtype: float64"
      ]
     },
     "execution_count": 24,
     "metadata": {},
     "output_type": "execute_result"
    }
   ],
   "source": [
    "np.max(pd.DataFrame(pca.components_,columns=X_train.columns,index = range(1,14)))"
   ]
  },
  {
   "cell_type": "code",
   "execution_count": 25,
   "id": "4a8c25bf",
   "metadata": {
    "scrolled": true
   },
   "outputs": [
    {
     "name": "stdout",
     "output_type": "stream",
     "text": [
      "       0                     1\n",
      "0    PC1          time_of_trip\n",
      "1   PC10  DEATH_COUNT_7DAY_AVG\n",
      "2   PC11       passenger_count\n",
      "3   PC12            RatecodeID\n",
      "4   PC13          payment_type\n",
      "5    PC2            CASE_COUNT\n",
      "6    PC3   CASE_COUNT_7DAY_AVG\n",
      "7    PC4   HOSP_COUNT_7DAY_AVG\n",
      "8    PC5         trip_distance\n",
      "9    PC6    HOSPITALIZED_COUNT\n",
      "10   PC7           DEATH_COUNT\n",
      "11   PC8            tip_amount\n",
      "12   PC9          tolls_amount\n"
     ]
    }
   ],
   "source": [
    "most_important = [np.abs(pca.components_[i]).argmax() for i in range(13)]\n",
    "most_important_names = [predictors[most_important[i]] for i in range(13)]\n",
    "dic = {'PC{}'.format(i+1): most_important_names[i] for i in range(13)}\n",
    "\n",
    "df = pd.DataFrame(sorted(dic.items()))\n",
    "print(df)"
   ]
  },
  {
   "cell_type": "code",
   "execution_count": 26,
   "id": "ff1f17e5",
   "metadata": {
    "scrolled": true
   },
   "outputs": [
    {
     "data": {
      "image/png": "[encoded data removed]",
      "text/plain": [
       "<Figure size 640x480 with 1 Axes>"
      ]
     },
     "metadata": {},
     "output_type": "display_data"
    },
    {
     "data": {
      "text/plain": [
       "<ggplot: (120518678468)>"
      ]
     },
     "execution_count": 26,
     "metadata": {},
     "output_type": "execute_result"
    }
   ],
   "source": [
    "(ggplot(pcaDF, aes(x = \"pc\", y = \"expl_var\")) + geom_line() + geom_point())"
   ]
  },
  {
   "cell_type": "code",
   "execution_count": 27,
   "id": "2aa6c9be",
   "metadata": {
    "scrolled": false
   },
   "outputs": [
    {
     "data": {
      "image/png": "[encoded data removed]",
      "text/plain": [
       "<Figure size 640x480 with 1 Axes>"
      ]
     },
     "metadata": {},
     "output_type": "display_data"
    },
    {
     "name": "stdout",
     "output_type": "stream",
     "text": [
      "\n"
     ]
    }
   ],
   "source": [
    "plot2 = (ggplot(pcaDF, aes(x = \"pc\", y = \"cum_var\")) + geom_line(color = \"Orange\") +\n",
    " geom_point(color = \"Red\"))\n",
    "print(plot2)"
   ]
  },
  {
   "cell_type": "code",
   "execution_count": 28,
   "id": "343add83",
   "metadata": {},
   "outputs": [
    {
     "name": "stdout",
     "output_type": "stream",
     "text": [
      "       Coef                  Name\n",
      "0 -0.206287  DEATH_COUNT_7DAY_AVG\n",
      "1  4.938502         trip_distance\n",
      "2  1.134426          time_of_trip\n",
      "3  1.531646            RatecodeID\n",
      "4  7.021592          tolls_amount\n",
      "TEST\n",
      "91.1573162178448\n",
      "0.5654695258409541\n",
      "TRAIN\n",
      "0.49136044044328275\n",
      "109.10635905817614\n"
     ]
    }
   ],
   "source": [
    "predictors = [\"DEATH_COUNT_7DAY_AVG\",\"trip_distance\",\"time_of_trip\",\"RatecodeID\",\"tolls_amount\"]\n",
    "# DEATH_COUNT_7DAY_AVG    0.854254\n",
    "# trip_distance           0.985370\n",
    "# time_of_trip            1.000000\n",
    "# RatecodeID              0.997339\n",
    "# tolls_amount            0.961625\n",
    "\n",
    "testSplitDecimal = .1\n",
    "\n",
    "X_train, X_test, y_train, y_test = train_test_split(mergeSet[predictors], mergeSet[\"total_amount\"],\n",
    "                                                    test_size=testSplitDecimal)\n",
    "\n",
    "zScore = StandardScaler()\n",
    "\n",
    "zScore.fit(X_train)\n",
    "Xz_train = zScore.transform(X_train)\n",
    "Xz_test = zScore.transform(X_test)\n",
    "\n",
    "\n",
    "lr = LinearRegression()\n",
    "lr.fit(Xz_train,y_train)\n",
    "\n",
    "y_pred = lr.predict(Xz_test)\n",
    "y_predTrain = lr.predict(Xz_train)\n",
    "\n",
    "\n",
    "testMSE = mean_squared_error(y_test,y_pred)\n",
    "trainMSE = mean_squared_error(y_train,y_predTrain)\n",
    "\n",
    "testr2 = r2_score(y_test,y_pred)\n",
    "trainr2 = r2_score(y_train,y_predTrain)\n",
    "\n",
    "\n",
    "coefficients = pd.DataFrame({\"Coef\":lr.coef_,\n",
    "              \"Name\": predictors})\n",
    "print(coefficients)\n",
    "\n",
    "print(\"TEST\")\n",
    "print(testMSE)\n",
    "print(testr2)\n",
    "\n",
    "print(\"TRAIN\")\n",
    "print(trainr2)\n",
    "print(trainMSE)"
   ]
  },
  {
   "cell_type": "code",
   "execution_count": 29,
   "id": "99d83565",
   "metadata": {
    "scrolled": true
   },
   "outputs": [
    {
     "name": "stdout",
     "output_type": "stream",
     "text": [
      "       Coef                 Name\n",
      "0  0.073715           CASE_COUNT\n",
      "1  0.255373  CASE_COUNT_7DAY_AVG\n",
      "2 -0.488207  HOSP_COUNT_7DAY_AVG\n",
      "3  7.258535        trip_distance\n",
      "4  1.471880         time_of_trip\n",
      "TEST\n",
      "123.67380680621392\n",
      "0.4081212181114472\n",
      "TRAIN\n",
      "0.2650466148967985\n",
      "157.7200356373084\n"
     ]
    }
   ],
   "source": [
    "predictors = [\"CASE_COUNT\",\"CASE_COUNT_7DAY_AVG\",\"HOSP_COUNT_7DAY_AVG\",\n",
    "              \"trip_distance\",\"time_of_trip\"]\n",
    "# PC1          time_of_trip\n",
    "# PC2            CASE_COUNT\n",
    "# PC3   CASE_COUNT_7DAY_AVG\n",
    "# PC4   HOSP_COUNT_7DAY_AVG\n",
    "# PC5         trip_distance\n",
    "\n",
    "testSplitDecimal = .1\n",
    "\n",
    "X_train, X_test, y_train, y_test = train_test_split(mergeSet[predictors], mergeSet[\"total_amount\"],\n",
    "                                                    test_size=testSplitDecimal)\n",
    "\n",
    "zScore = StandardScaler()\n",
    "\n",
    "zScore.fit(X_train)\n",
    "Xz_train = zScore.transform(X_train)\n",
    "Xz_test = zScore.transform(X_test)\n",
    "\n",
    "\n",
    "lr = LinearRegression()\n",
    "lr.fit(Xz_train,y_train)\n",
    "\n",
    "y_pred = lr.predict(Xz_test)\n",
    "y_predTrain = lr.predict(Xz_train)\n",
    "\n",
    "\n",
    "testMSE = mean_squared_error(y_test,y_pred)\n",
    "trainMSE = mean_squared_error(y_train,y_predTrain)\n",
    "\n",
    "testr2 = r2_score(y_test,y_pred)\n",
    "trainr2 = r2_score(y_train,y_predTrain)\n",
    "\n",
    "\n",
    "coefficients = pd.DataFrame({\"Coef\":lr.coef_,\n",
    "              \"Name\": predictors})\n",
    "print(coefficients)\n",
    "\n",
    "print(\"TEST\")\n",
    "print(testMSE)\n",
    "print(testr2)\n",
    "\n",
    "print(\"TRAIN\")\n",
    "print(trainr2)\n",
    "print(trainMSE)"
   ]
  },
  {
   "attachments": {},
   "cell_type": "markdown",
   "id": "b783a07d",
   "metadata": {},
   "source": [
    "## b) ##\n",
    "\n",
    "Based on the comparison between the PCA and linear model, there is not too much that changes after using PCA. This is shown by the very VERY high cumulative variation shown just by one variable that shows that time is the most important variable and that the others dont matter as much in terms of explaining the same amount of variation in the data.\n",
    "\n",
    "When comparing the model using one month of data, its better to not include COVID data as the resulting model both for a simple linear model and when including PCA and using the top 5 variables is worse.\n",
    "\n",
    "I would state that this doesn’t show a impact or a lack of impact that COVID had on the taxi business. I would say that it added too much to something that it wouldn’t have a impact on. It logically makes sense that this model wouldnt work better with coivd data as covid data has intuitivly nothing to do with the total transaction cost of each individual ride.\n",
    "\n",
    "Something that it could possibly have a impact on is the transaction count overall and i will dive into that with question #3.5"
   ]
  },
  {
   "cell_type": "markdown",
   "id": "495789cf",
   "metadata": {},
   "source": [
    "## c) ##"
   ]
  },
  {
   "cell_type": "markdown",
   "id": "25f67c2d",
   "metadata": {},
   "source": [
    "The first plot is the coefficent values of the coefficents that were created from the linear model made from the variables from the TAXI dataset\n",
    "\n",
    "The second plot is the coefficent values of the coefficents that were created from the linear model made from the variables from the TAXI and COVID dataset"
   ]
  },
  {
   "cell_type": "code",
   "execution_count": 30,
   "id": "cf1ae612",
   "metadata": {},
   "outputs": [
    {
     "name": "stdout",
     "output_type": "stream",
     "text": [
      "PLOT #1\n"
     ]
    },
    {
     "data": {
      "image/png": "[encoded data removed]",
      "text/plain": [
       "<Figure size 640x480 with 1 Axes>"
      ]
     },
     "metadata": {
      "needs_background": "light"
     },
     "output_type": "display_data"
    },
    {
     "name": "stdout",
     "output_type": "stream",
     "text": [
      "\n",
      "PLOT #2\n"
     ]
    },
    {
     "data": {
      "image/png": "[encoded data removed]",
      "text/plain": [
       "<Figure size 640x480 with 1 Axes>"
      ]
     },
     "metadata": {
      "needs_background": "light"
     },
     "output_type": "display_data"
    },
    {
     "name": "stdout",
     "output_type": "stream",
     "text": [
      "\n"
     ]
    }
   ],
   "source": [
    "print(\"PLOT #1\")\n",
    "print(ggplot(aes(x=\"Name\", weight=\"Coef\"), coefficients) + geom_bar(aes(fill = \"Name\")) + theme_minimal() + labs(x = \"Coefficent's Name\",y = \"Coef Value\") + theme(panel_grid_major_x = element_blank(),\n",
    "        axis_title_x=element_blank(),\n",
    "        axis_text_x=element_blank()))\n",
    "print(\"PLOT #2\")\n",
    "print(ggplot(aes(x=\"Name\", weight=\"Coef\"), coefficients2) + geom_bar(aes(fill = \"Name\")) + theme_minimal() + labs(x = \"Coefficent's Name\",y = \"Coef Value\") + theme(panel_grid_major_x = element_blank(),\n",
    "        axis_title_x=element_blank(),\n",
    "        axis_text_x=element_blank()))"
   ]
  },
  {
   "cell_type": "markdown",
   "id": "b8428013",
   "metadata": {},
   "source": [
    "The first plot below is the Cumulative Varriation graph for the TAXI only PCA. This graph marks the importance of each Commonent or Variable in the graph.\n",
    "\n",
    "The second plot below is the Cumulative Varriation graph for the TAXI and COVID PCA. This graph marks the importance of each Commonent or Variable in the graph.\n",
    "\n",
    "Notice the insanely high .999999 that both start at. This shows that there is one varriable that has insanely high improtantce and the other ones are much less important"
   ]
  },
  {
   "cell_type": "code",
   "execution_count": 31,
   "id": "9c42a4ee",
   "metadata": {},
   "outputs": [
    {
     "name": "stdout",
     "output_type": "stream",
     "text": [
      "PLOT #3\n"
     ]
    },
    {
     "data": {
      "image/png": "[encoded data removed]",
      "text/plain": [
       "<Figure size 640x480 with 1 Axes>"
      ]
     },
     "metadata": {},
     "output_type": "display_data"
    },
    {
     "name": "stdout",
     "output_type": "stream",
     "text": [
      "\n",
      "PLOT #4\n"
     ]
    },
    {
     "data": {
      "image/png": "[encoded data removed]",
      "text/plain": [
       "<Figure size 640x480 with 1 Axes>"
      ]
     },
     "metadata": {},
     "output_type": "display_data"
    },
    {
     "name": "stdout",
     "output_type": "stream",
     "text": [
      "\n"
     ]
    }
   ],
   "source": [
    "print(\"PLOT #3\")\n",
    "print(plot1)\n",
    "print(\"PLOT #4\")\n",
    "print(plot2)"
   ]
  }
 ],
 "metadata": {
  "kernelspec": {
   "display_name": "Python 3 (ipykernel)",
   "language": "python",
   "name": "python3"
  },
  "language_info": {
   "codemirror_mode": {
    "name": "ipython",
    "version": 3
   },
   "file_extension": ".py",
   "mimetype": "text/x-python",
   "name": "python",
   "nbconvert_exporter": "python",
   "pygments_lexer": "ipython3",
   "version": "3.9.7"
  }
 },
 "nbformat": 4,
 "nbformat_minor": 5
}
